{
 "cells": [
  {
   "cell_type": "markdown",
   "id": "d70181b8",
   "metadata": {},
   "source": [
    "Name : JAINEEL PRAVIN PARMAR\n",
    "\n",
    "Email : japarmar@syr.edu\n",
    "\n",
    "All of the writing in this document is my original work, except for the code excerpts and any quoted material for which I have provided a citation"
   ]
  },
  {
   "cell_type": "code",
   "execution_count": 28,
   "id": "f76c190d",
   "metadata": {},
   "outputs": [],
   "source": [
    "# CODE BLOCK 1\n",
    "# Import necessary modules\n",
    "import pickle\n",
    "import numpy as np"
   ]
  },
  {
   "cell_type": "code",
   "execution_count": 29,
   "id": "24d137d5",
   "metadata": {},
   "outputs": [],
   "source": [
    "# CODE BLOCK 2\n",
    "# Load training and test data from pickle files\n",
    "\n",
    "with open(\"train_qa.txt\", \"rb\") as fp:\n",
    "    train_data = pickle.load(fp)"
   ]
  },
  {
   "cell_type": "code",
   "execution_count": 30,
   "id": "302adc08",
   "metadata": {},
   "outputs": [],
   "source": [
    "# CODE BLOCK 3\n",
    "\n",
    "with open(\"test_qa.txt\", \"rb\") as fp:\n",
    "    test_data = pickle.load(fp)"
   ]
  },
  {
   "cell_type": "code",
   "execution_count": 31,
   "id": "ea146c60",
   "metadata": {},
   "outputs": [],
   "source": [
    "# CODE BLOCK 4\n",
    "# Create vocabulary set from all data\n",
    "vocab = set()"
   ]
  },
  {
   "cell_type": "code",
   "execution_count": 32,
   "id": "d46594ac",
   "metadata": {},
   "outputs": [],
   "source": [
    "# CODE BLOCK 5\n",
    "all_data = test_data + train_data"
   ]
  },
  {
   "cell_type": "code",
   "execution_count": 33,
   "id": "b2f53c45",
   "metadata": {},
   "outputs": [],
   "source": [
    "# CODE BLOCK 6\n",
    "for story, question, answer in all_data:\n",
    "    vocab = vocab.union(set(story))\n",
    "    vocab = vocab.union(set(question))"
   ]
  },
  {
   "cell_type": "code",
   "execution_count": 34,
   "id": "9c4a7c11",
   "metadata": {},
   "outputs": [],
   "source": [
    "# CODE BLOCK 7\n",
    "# Add 'yes' and 'no' to vocabulary\n",
    "vocab.add(\"yes\")\n",
    "vocab.add(\"no\")"
   ]
  },
  {
   "cell_type": "code",
   "execution_count": 35,
   "id": "28b073d5",
   "metadata": {},
   "outputs": [],
   "source": [
    "# CODE BLOCK 8\n",
    "# Find maximum lengths of stories and questions\n",
    "max_story_len = max([len(data[0]) for data in all_data])\n",
    "\n",
    "max_ques_len = max([len(data[1]) for data in all_data])"
   ]
  },
  {
   "cell_type": "code",
   "execution_count": 37,
   "id": "9c96b975",
   "metadata": {},
   "outputs": [],
   "source": [
    "# CODE BLOCK 9\n",
    "# Pad and tokenize the training and test data\n",
    "from keras.utils import pad_sequences\n",
    "from keras.preprocessing.text import Tokenizer\n",
    "\n",
    "tokenizer = Tokenizer(filters = [])\n",
    "\n",
    "tokenizer.fit_on_texts(vocab)"
   ]
  },
  {
   "cell_type": "code",
   "execution_count": 38,
   "id": "577c894e",
   "metadata": {},
   "outputs": [],
   "source": [
    "# CODE BLOCK 10\n",
    "\n",
    "train_story_text = []\n",
    "train_question_text = []\n",
    "train_answers = []\n",
    "\n",
    "for story, question, answer in train_data:\n",
    "    train_story_text.append(story)\n",
    "    train_question_text.append(question)"
   ]
  },
  {
   "cell_type": "code",
   "execution_count": 39,
   "id": "f2488721",
   "metadata": {},
   "outputs": [],
   "source": [
    "# CODE BLOCK 11\n",
    "train_story_seq = tokenizer.texts_to_sequences(train_story_text)"
   ]
  },
  {
   "cell_type": "code",
   "execution_count": 40,
   "id": "4dd65cd5",
   "metadata": {},
   "outputs": [],
   "source": [
    "# CODE BLOCK 12\n",
    "# Define a function to vectorize the stories and questions\n",
    "def vectorize_stories(data, word_index = tokenizer.word_index, max_story_len = max_story_len, max_ques_len = max_ques_len):\n",
    "    X = []\n",
    "    Xq = []\n",
    "    Y = []\n",
    "\n",
    "    for story, ques, ans in data:\n",
    "        x = [word_index[word.lower()] for word in story]\n",
    "        xq = [word_index[word.lower()] for word in ques]\n",
    "        y = np.zeros(len(word_index) + 1)\n",
    "        y[word_index[ans]] = 1\n",
    "\n",
    "        X.append(x)\n",
    "        Xq.append(xq)\n",
    "        Y.append(y)\n",
    "\n",
    "    return(pad_sequences(X, maxlen = max_story_len), pad_sequences(Xq, maxlen = max_ques_len), np.array(Y))"
   ]
  },
  {
   "cell_type": "code",
   "execution_count": 42,
   "id": "faed2206",
   "metadata": {},
   "outputs": [],
   "source": [
    "# CODE BLOCK 13\n",
    "# Vectorize the training and test data\n",
    "inputs_train, queries_train, answers_train = vectorize_stories(train_data)\n",
    "\n",
    "inputs_test, queries_test, answers_test = vectorize_stories(test_data)\n",
    "\n",
    "# Define the vocabulary length\n",
    "vocab_len = len(vocab) + 1"
   ]
  },
  {
   "cell_type": "code",
   "execution_count": 43,
   "id": "f4c1427d",
   "metadata": {},
   "outputs": [],
   "source": [
    "# CODE BLOCK 14\n",
    "# Import necessary layers for building model\n",
    "from keras.models import Sequential, Model\n",
    "from tensorflow.keras.layers import Embedding\n",
    "from keras.layers import Input, Activation, Dense, Permute, Dropout, add, dot, concatenate, LSTM"
   ]
  },
  {
   "cell_type": "code",
   "execution_count": 44,
   "id": "530a9c22",
   "metadata": {},
   "outputs": [],
   "source": [
    "# CODE BLOCK 15\n",
    "# Define the input sequence and question inputs\n",
    "input_sequence = Input((max_story_len,))\n",
    "question = Input((max_ques_len,))"
   ]
  },
  {
   "cell_type": "code",
   "execution_count": 45,
   "id": "dbcdff26",
   "metadata": {},
   "outputs": [],
   "source": [
    "# CODE BLOCK 16\n",
    "# Define the input encoder and question encoder layers\n",
    "input_encoder_m = Sequential()\n",
    "input_encoder_m.add(Embedding(input_dim = vocab_len, output_dim = 64))\n",
    "input_encoder_m.add(Dropout(0.3))"
   ]
  },
  {
   "cell_type": "code",
   "execution_count": 46,
   "id": "93592dba",
   "metadata": {},
   "outputs": [
    {
     "name": "stdout",
     "output_type": "stream",
     "text": [
      "Model: \"model_1\"\n",
      "__________________________________________________________________________________________________\n",
      " Layer (type)                   Output Shape         Param #     Connected to                     \n",
      "==================================================================================================\n",
      " input_3 (InputLayer)           [(None, 156)]        0           []                               \n",
      "                                                                                                  \n",
      " input_4 (InputLayer)           [(None, 6)]          0           []                               \n",
      "                                                                                                  \n",
      " sequential_3 (Sequential)      (None, None, 64)     2432        ['input_3[0][0]']                \n",
      "                                                                                                  \n",
      " sequential_5 (Sequential)      (None, 6, 64)        2432        ['input_4[0][0]']                \n",
      "                                                                                                  \n",
      " dot_1 (Dot)                    (None, 156, 6)       0           ['sequential_3[0][0]',           \n",
      "                                                                  'sequential_5[0][0]']           \n",
      "                                                                                                  \n",
      " activation_2 (Activation)      (None, 156, 6)       0           ['dot_1[0][0]']                  \n",
      "                                                                                                  \n",
      " sequential_4 (Sequential)      (None, None, 6)      228         ['input_3[0][0]']                \n",
      "                                                                                                  \n",
      " add_1 (Add)                    (None, 156, 6)       0           ['activation_2[0][0]',           \n",
      "                                                                  'sequential_4[0][0]']           \n",
      "                                                                                                  \n",
      " permute_1 (Permute)            (None, 6, 156)       0           ['add_1[0][0]']                  \n",
      "                                                                                                  \n",
      " concatenate_1 (Concatenate)    (None, 6, 220)       0           ['permute_1[0][0]',              \n",
      "                                                                  'sequential_5[0][0]']           \n",
      "                                                                                                  \n",
      " lstm_1 (LSTM)                  (None, 32)           32384       ['concatenate_1[0][0]']          \n",
      "                                                                                                  \n",
      " dropout_7 (Dropout)            (None, 32)           0           ['lstm_1[0][0]']                 \n",
      "                                                                                                  \n",
      " dense_1 (Dense)                (None, 38)           1254        ['dropout_7[0][0]']              \n",
      "                                                                                                  \n",
      " activation_3 (Activation)      (None, 38)           0           ['dense_1[0][0]']                \n",
      "                                                                                                  \n",
      "==================================================================================================\n",
      "Total params: 38,730\n",
      "Trainable params: 38,730\n",
      "Non-trainable params: 0\n",
      "__________________________________________________________________________________________________\n"
     ]
    }
   ],
   "source": [
    "# CODE BLOCK 17\n",
    "input_encoder_c = Sequential()\n",
    "input_encoder_c.add(Embedding(input_dim = vocab_len, output_dim = max_ques_len))\n",
    "input_encoder_c.add(Dropout(0.3))\n",
    "\n",
    "question_encoder = Sequential()\n",
    "question_encoder.add(Embedding(input_dim = vocab_len, output_dim = 64, input_length = max_ques_len))\n",
    "question_encoder.add(Dropout(0.3))\n",
    "\n",
    "\n",
    "# Encode the input sequence and question inputs\n",
    "input_encoded_m = input_encoder_m(input_sequence)\n",
    "\n",
    "input_encoded_c = input_encoder_c(input_sequence)\n",
    "question_encoded = question_encoder(question)\n",
    "\n",
    "# Compute the match between the input sequence and the question\n",
    "match = dot([input_encoded_m, question_encoded], axes = (2, 2))\n",
    "match = Activation('softmax')(match)\n",
    "\n",
    "response = add([match, input_encoded_c])\n",
    "response = Permute((2, 1))(response)\n",
    "\n",
    "answer = concatenate([response, question_encoded])\n",
    "\n",
    "answer = LSTM(32)(answer)\n",
    "\n",
    "answer = Dropout(0.5)(answer)\n",
    "answer = Dense(vocab_len)(answer)\n",
    "\n",
    "answer = Activation('softmax')(answer)\n",
    "\n",
    "model = Model([input_sequence, question], answer)\n",
    "model.compile(optimizer = 'rmsprop', loss = 'categorical_crossentropy', metrics = ['accuracy'])\n",
    "\n",
    "model.summary()"
   ]
  },
  {
   "cell_type": "code",
   "execution_count": 47,
   "id": "2ff7a412",
   "metadata": {},
   "outputs": [
    {
     "name": "stdout",
     "output_type": "stream",
     "text": [
      "Epoch 1/22\n",
      "334/334 [==============================] - 5s 10ms/step - loss: 0.9215 - accuracy: 0.4912 - val_loss: 0.6940 - val_accuracy: 0.4830\n",
      "Epoch 2/22\n",
      "334/334 [==============================] - 3s 9ms/step - loss: 0.7026 - accuracy: 0.5031 - val_loss: 0.7093 - val_accuracy: 0.5030\n",
      "Epoch 3/22\n",
      "334/334 [==============================] - 3s 9ms/step - loss: 0.6972 - accuracy: 0.4975 - val_loss: 0.6933 - val_accuracy: 0.4970\n",
      "Epoch 4/22\n",
      "334/334 [==============================] - 3s 10ms/step - loss: 0.6944 - accuracy: 0.5065 - val_loss: 0.6934 - val_accuracy: 0.5030\n",
      "Epoch 5/22\n",
      "334/334 [==============================] - 3s 9ms/step - loss: 0.6950 - accuracy: 0.4998 - val_loss: 0.6938 - val_accuracy: 0.5030\n",
      "Epoch 6/22\n",
      "334/334 [==============================] - 3s 9ms/step - loss: 0.6948 - accuracy: 0.4946 - val_loss: 0.6961 - val_accuracy: 0.5030\n",
      "Epoch 7/22\n",
      "334/334 [==============================] - 3s 9ms/step - loss: 0.6944 - accuracy: 0.4986 - val_loss: 0.6959 - val_accuracy: 0.4970\n",
      "Epoch 8/22\n",
      "334/334 [==============================] - 3s 9ms/step - loss: 0.6942 - accuracy: 0.5093 - val_loss: 0.6959 - val_accuracy: 0.5030\n",
      "Epoch 9/22\n",
      "334/334 [==============================] - 3s 10ms/step - loss: 0.6943 - accuracy: 0.4985 - val_loss: 0.6949 - val_accuracy: 0.4970\n",
      "Epoch 10/22\n",
      "334/334 [==============================] - 3s 9ms/step - loss: 0.6942 - accuracy: 0.4986 - val_loss: 0.6942 - val_accuracy: 0.4630\n",
      "Epoch 11/22\n",
      "334/334 [==============================] - 3s 9ms/step - loss: 0.6929 - accuracy: 0.5131 - val_loss: 0.6941 - val_accuracy: 0.4900\n",
      "Epoch 12/22\n",
      "334/334 [==============================] - 3s 9ms/step - loss: 0.6920 - accuracy: 0.5104 - val_loss: 0.6974 - val_accuracy: 0.5030\n",
      "Epoch 13/22\n",
      "334/334 [==============================] - 3s 9ms/step - loss: 0.6871 - accuracy: 0.5398 - val_loss: 0.6918 - val_accuracy: 0.5080\n",
      "Epoch 14/22\n",
      "334/334 [==============================] - 3s 9ms/step - loss: 0.6721 - accuracy: 0.5771 - val_loss: 0.6560 - val_accuracy: 0.6160\n",
      "Epoch 15/22\n",
      "334/334 [==============================] - 3s 9ms/step - loss: 0.6374 - accuracy: 0.6427 - val_loss: 0.6329 - val_accuracy: 0.6470\n",
      "Epoch 16/22\n",
      "334/334 [==============================] - 3s 9ms/step - loss: 0.6197 - accuracy: 0.6625 - val_loss: 0.6284 - val_accuracy: 0.6420\n",
      "Epoch 17/22\n",
      "334/334 [==============================] - 3s 9ms/step - loss: 0.6010 - accuracy: 0.6837 - val_loss: 0.6049 - val_accuracy: 0.6730\n",
      "Epoch 18/22\n",
      "334/334 [==============================] - 3s 9ms/step - loss: 0.5892 - accuracy: 0.7001 - val_loss: 0.5839 - val_accuracy: 0.6930\n",
      "Epoch 19/22\n",
      "334/334 [==============================] - 3s 8ms/step - loss: 0.5667 - accuracy: 0.7117 - val_loss: 0.5576 - val_accuracy: 0.7310\n",
      "Epoch 20/22\n",
      "334/334 [==============================] - 3s 8ms/step - loss: 0.5369 - accuracy: 0.7427 - val_loss: 0.5407 - val_accuracy: 0.7330\n",
      "Epoch 21/22\n",
      "334/334 [==============================] - 3s 9ms/step - loss: 0.4992 - accuracy: 0.7711 - val_loss: 0.5273 - val_accuracy: 0.7500\n",
      "Epoch 22/22\n",
      "334/334 [==============================] - 3s 8ms/step - loss: 0.4845 - accuracy: 0.7810 - val_loss: 0.4942 - val_accuracy: 0.7650\n"
     ]
    }
   ],
   "source": [
    "# CODE BLOCK 18\n",
    "# Training the model with inputs_train, queries_train, and answers_train data and saving the training history to history\n",
    "\n",
    "history = model.fit([inputs_train, queries_train], answers_train, batch_size = 30, epochs = 22, validation_data = ([inputs_test, queries_test], answers_test))"
   ]
  },
  {
   "cell_type": "code",
   "execution_count": 48,
   "id": "5f2235bd",
   "metadata": {},
   "outputs": [
    {
     "name": "stdout",
     "output_type": "stream",
     "text": [
      "dict_keys(['loss', 'accuracy', 'val_loss', 'val_accuracy'])\n"
     ]
    },
    {
     "data": {
      "text/plain": [
       "Text(0.5, 0, 'epochs')"
      ]
     },
     "execution_count": 48,
     "metadata": {},
     "output_type": "execute_result"
    },
    {
     "data": {
      "image/png": "[encoded data removed]",
      "text/plain": [
       "<Figure size 640x480 with 1 Axes>"
      ]
     },
     "metadata": {},
     "output_type": "display_data"
    }
   ],
   "source": [
    "# CODE BLOCK 19\n",
    "\n",
    "# Importing matplotlib library for visualizations\n",
    "import matplotlib.pyplot as plt\n",
    "\n",
    "# Printing the keys of the training history dictionary\n",
    "print(history.history.keys())\n",
    "\n",
    "# Plotting the accuracy of the model during training and validation epochs\n",
    "plt.plot(history.history['accuracy'])\n",
    "\n",
    "plt.plot(history.history['val_accuracy'])\n",
    "plt.title(\"Model Accuracy\")\n",
    "plt.ylabel(\"Accuracy\")\n",
    "plt.xlabel(\"epochs\")"
   ]
  },
  {
   "cell_type": "code",
   "execution_count": 49,
   "id": "74961747",
   "metadata": {},
   "outputs": [
    {
     "name": "stderr",
     "output_type": "stream",
     "text": [
      "WARNING:absl:Found untraced functions such as lstm_cell_1_layer_call_fn, lstm_cell_1_layer_call_and_return_conditional_losses while saving (showing 2 of 2). These functions will not be directly callable after loading.\n"
     ]
    },
    {
     "name": "stdout",
     "output_type": "stream",
     "text": [
      "INFO:tensorflow:Assets written to: chatbot_model/assets\n"
     ]
    },
    {
     "name": "stderr",
     "output_type": "stream",
     "text": [
      "INFO:tensorflow:Assets written to: chatbot_model/assets\n"
     ]
    }
   ],
   "source": [
    "# CODE BLOCK 20\n",
    "# Saving the trained model\n",
    "\n",
    "model.save(\"chatbot_model\")"
   ]
  },
  {
   "cell_type": "code",
   "execution_count": 50,
   "id": "8cdac7b2",
   "metadata": {},
   "outputs": [
    {
     "name": "stderr",
     "output_type": "stream",
     "text": [
      "2023-04-11 19:54:15.230653: W tensorflow/core/util/tensor_slice_reader.cc:96] Could not open chatbot_model: FAILED_PRECONDITION: chatbot_model; Is a directory: perhaps your file is in a different file format and you need to use a different restore operator?\n"
     ]
    },
    {
     "data": {
      "text/plain": [
       "<tensorflow.python.checkpoint.checkpoint.CheckpointLoadStatus at 0x7fbc3c0cba90>"
      ]
     },
     "execution_count": 50,
     "metadata": {},
     "output_type": "execute_result"
    }
   ],
   "source": [
    "# CODE BLOCK 21\n",
    "# Loading the saved model\n",
    "\n",
    "model.load_weights(\"chatbot_model\")"
   ]
  },
  {
   "cell_type": "code",
   "execution_count": 51,
   "id": "c2af1045",
   "metadata": {},
   "outputs": [
    {
     "name": "stdout",
     "output_type": "stream",
     "text": [
      "32/32 [==============================] - 0s 4ms/step\n"
     ]
    }
   ],
   "source": [
    "# CODE BLOCK 22\n",
    "# Generating prediction results on test data\n",
    "\n",
    "pred_results = model.predict(([inputs_test, queries_test]))"
   ]
  },
  {
   "cell_type": "code",
   "execution_count": 52,
   "id": "6cfea6e7",
   "metadata": {},
   "outputs": [
    {
     "data": {
      "text/plain": [
       "['Mary',\n",
       " 'got',\n",
       " 'the',\n",
       " 'milk',\n",
       " 'there',\n",
       " '.',\n",
       " 'John',\n",
       " 'moved',\n",
       " 'to',\n",
       " 'the',\n",
       " 'bedroom',\n",
       " '.']"
      ]
     },
     "execution_count": 52,
     "metadata": {},
     "output_type": "execute_result"
    }
   ],
   "source": [
    "# CODE BLOCK 23\n",
    "# Accessing a single story in test_data and converting it into a string\n",
    "\n",
    "test_data[0][0]"
   ]
  },
  {
   "cell_type": "code",
   "execution_count": 53,
   "id": "4ae25be8",
   "metadata": {},
   "outputs": [
    {
     "data": {
      "text/plain": [
       "'John took the apple there . John went to the bathroom .'"
      ]
     },
     "execution_count": 53,
     "metadata": {},
     "output_type": "execute_result"
    }
   ],
   "source": [
    "# CODE BLOCK 24\n",
    "story = ' '.join(word for word in test_data[100][0])\n",
    "story"
   ]
  },
  {
   "cell_type": "code",
   "execution_count": 54,
   "id": "e43621da",
   "metadata": {},
   "outputs": [
    {
     "data": {
      "text/plain": [
       "'Is John in the hallway ?'"
      ]
     },
     "execution_count": 54,
     "metadata": {},
     "output_type": "execute_result"
    }
   ],
   "source": [
    "# CODE BLOCK 25\n",
    "# Accessing a single query in test_data and converting it into a string\n",
    "\n",
    "query = ' '.join(word for word in test_data[100][1])\n",
    "query"
   ]
  },
  {
   "cell_type": "code",
   "execution_count": 55,
   "id": "20af6c95",
   "metadata": {},
   "outputs": [
    {
     "data": {
      "text/plain": [
       "'no'"
      ]
     },
     "execution_count": 55,
     "metadata": {},
     "output_type": "execute_result"
    }
   ],
   "source": [
    "# CODE BLOCK 26\n",
    "# Accessing the ground truth answer for a single story-query pair in test_data\n",
    "\n",
    "test_data[100][2]"
   ]
  },
  {
   "cell_type": "code",
   "execution_count": 56,
   "id": "acf89c31",
   "metadata": {},
   "outputs": [
    {
     "name": "stdout",
     "output_type": "stream",
     "text": [
      "Predicted answer is yes\n",
      "Probability of certainty 0.92389286\n"
     ]
    }
   ],
   "source": [
    "# CODE BLOCK 27\n",
    "\n",
    "# Identifying the index of the predicted answer with the highest probability\n",
    "val_max = np.argmax(pred_results[37])\n",
    "\n",
    "# Mapping the predicted answer index to the corresponding word in the tokenizer.word_index dictionary\n",
    "for key, val in tokenizer.word_index.items():\n",
    "    if val == val_max:\n",
    "        k = key\n",
    "\n",
    "# Printing the predicted answer and its corresponding probability\n",
    "print(\"Predicted answer is\", k)\n",
    "print(\"Probability of certainty\", pred_results[37][val_max])"
   ]
  }
 ],
 "metadata": {
  "kernelspec": {
   "display_name": "Python 3 (ipykernel)",
   "language": "python",
   "name": "python3"
  },
  "language_info": {
   "codemirror_mode": {
    "name": "ipython",
    "version": 3
   },
   "file_extension": ".py",
   "mimetype": "text/x-python",
   "name": "python",
   "nbconvert_exporter": "python",
   "pygments_lexer": "ipython3",
   "version": "3.10.9"
  }
 },
 "nbformat": 4,
 "nbformat_minor": 5
}
