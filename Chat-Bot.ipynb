{
 "cells": [
  {
   "cell_type": "code",
   "execution_count": 1,
   "id": "e9e57aee",
   "metadata": {},
   "outputs": [],
   "source": [
    "import pickle\n",
    "import numpy as np"
   ]
  },
  {
   "cell_type": "code",
   "execution_count": 2,
   "id": "c686c1bd",
   "metadata": {},
   "outputs": [],
   "source": [
    "with open(\"train_qa.txt\", \"rb\") as fp:\n",
    "    train_data = pickle.load(fp)"
   ]
  },
  {
   "cell_type": "code",
   "execution_count": 3,
   "id": "92d9b5d3",
   "metadata": {},
   "outputs": [],
   "source": [
    "with open(\"test_qa.txt\", \"rb\") as fp:\n",
    "    test_data = pickle.load(fp)"
   ]
  },
  {
   "cell_type": "code",
   "execution_count": 4,
   "id": "b9a12fbe",
   "metadata": {},
   "outputs": [],
   "source": [
    "vocab = set()"
   ]
  },
  {
   "cell_type": "code",
   "execution_count": 5,
   "id": "b993e766",
   "metadata": {},
   "outputs": [],
   "source": [
    "all_data = test_data + train_data"
   ]
  },
  {
   "cell_type": "code",
   "execution_count": 6,
   "id": "8ac3b542",
   "metadata": {},
   "outputs": [],
   "source": [
    "for story, question, answer in all_data:\n",
    "    vocab = vocab.union(set(story))\n",
    "    vocab = vocab.union(set(question))"
   ]
  },
  {
   "cell_type": "code",
   "execution_count": 7,
   "id": "fcf574d4",
   "metadata": {},
   "outputs": [],
   "source": [
    "vocab.add(\"yes\")\n",
    "vocab.add(\"no\")"
   ]
  },
  {
   "cell_type": "code",
   "execution_count": 8,
   "id": "a28904be",
   "metadata": {},
   "outputs": [],
   "source": [
    "max_story_len = max([len(data[0]) for data in all_data])"
   ]
  },
  {
   "cell_type": "code",
   "execution_count": 9,
   "id": "e1f2e89e",
   "metadata": {},
   "outputs": [],
   "source": [
    "max_ques_len = max([len(data[1]) for data in all_data])"
   ]
  },
  {
   "cell_type": "code",
   "execution_count": 10,
   "id": "c8f4ed96",
   "metadata": {},
   "outputs": [],
   "source": [
    "from keras.utils import pad_sequences\n",
    "from keras.preprocessing.text import Tokenizer"
   ]
  },
  {
   "cell_type": "code",
   "execution_count": 11,
   "id": "4e239c34",
   "metadata": {},
   "outputs": [],
   "source": [
    "tokenizer = Tokenizer(filters = [])"
   ]
  },
  {
   "cell_type": "code",
   "execution_count": 12,
   "id": "a1701490",
   "metadata": {},
   "outputs": [],
   "source": [
    "tokenizer.fit_on_texts(vocab)"
   ]
  },
  {
   "cell_type": "code",
   "execution_count": 13,
   "id": "21788b47",
   "metadata": {},
   "outputs": [],
   "source": [
    "train_story_text = []\n",
    "train_question_text = []\n",
    "train_answers = []\n",
    "\n",
    "for story, question, answer in train_data:\n",
    "    train_story_text.append(story)\n",
    "    train_question_text.append(question)"
   ]
  },
  {
   "cell_type": "code",
   "execution_count": 14,
   "id": "e691e49b",
   "metadata": {},
   "outputs": [],
   "source": [
    "train_story_seq = tokenizer.texts_to_sequences(train_story_text)"
   ]
  },
  {
   "cell_type": "code",
   "execution_count": 15,
   "id": "803efe8e",
   "metadata": {},
   "outputs": [],
   "source": [
    "def vectorize_stories(data, word_index = tokenizer.word_index, max_story_len = max_story_len, max_ques_len = max_ques_len):\n",
    "    X = []\n",
    "    Xq = []\n",
    "    Y = []\n",
    "\n",
    "    for story, ques, ans in data:\n",
    "        x = [word_index[word.lower()] for word in story]\n",
    "        xq = [word_index[word.lower()] for word in ques]\n",
    "        y = np.zeros(len(word_index) + 1)\n",
    "        y[word_index[ans]] = 1\n",
    "\n",
    "        X.append(x)\n",
    "        Xq.append(xq)\n",
    "        Y.append(y)\n",
    "\n",
    "    return(pad_sequences(X, maxlen = max_story_len), pad_sequences(Xq, maxlen = max_ques_len), np.array(Y))"
   ]
  },
  {
   "cell_type": "code",
   "execution_count": 16,
   "id": "3613428a",
   "metadata": {},
   "outputs": [],
   "source": [
    "inputs_train, queries_train, answers_train = vectorize_stories(train_data)"
   ]
  },
  {
   "cell_type": "code",
   "execution_count": 17,
   "id": "c1be956c",
   "metadata": {},
   "outputs": [],
   "source": [
    "inputs_test, queries_test, answers_test = vectorize_stories(test_data)"
   ]
  },
  {
   "cell_type": "code",
   "execution_count": 18,
   "id": "685dc34f",
   "metadata": {},
   "outputs": [],
   "source": [
    "vocab_len = len(vocab) + 1"
   ]
  },
  {
   "cell_type": "code",
   "execution_count": 19,
   "id": "bd7f14e5",
   "metadata": {},
   "outputs": [],
   "source": [
    "from keras.models import Sequential, Model\n",
    "from tensorflow.keras.layers import Embedding\n",
    "from keras.layers import Input, Activation, Dense, Permute, Dropout, add, dot, concatenate, LSTM"
   ]
  },
  {
   "cell_type": "code",
   "execution_count": 20,
   "id": "cb7c8a80",
   "metadata": {},
   "outputs": [],
   "source": [
    "input_sequence = Input((max_story_len,))\n",
    "question = Input((max_ques_len,))"
   ]
  },
  {
   "cell_type": "code",
   "execution_count": 21,
   "id": "d4dd8f99",
   "metadata": {},
   "outputs": [],
   "source": [
    "input_encoder_m = Sequential()\n",
    "input_encoder_m.add(Embedding(input_dim = vocab_len, output_dim = 64))\n",
    "input_encoder_m.add(Dropout(0.3))"
   ]
  },
  {
   "cell_type": "code",
   "execution_count": 22,
   "id": "57285621",
   "metadata": {},
   "outputs": [],
   "source": [
    "input_encoder_c = Sequential()\n",
    "input_encoder_c.add(Embedding(input_dim = vocab_len, output_dim = max_ques_len))\n",
    "input_encoder_c.add(Dropout(0.3))"
   ]
  },
  {
   "cell_type": "code",
   "execution_count": 23,
   "id": "ce829b55",
   "metadata": {},
   "outputs": [],
   "source": [
    "question_encoder = Sequential()\n",
    "question_encoder.add(Embedding(input_dim = vocab_len, output_dim = 64, input_length = max_ques_len))\n",
    "question_encoder.add(Dropout(0.3))"
   ]
  },
  {
   "cell_type": "code",
   "execution_count": 24,
   "id": "33570595",
   "metadata": {},
   "outputs": [],
   "source": [
    "input_encoded_m = input_encoder_m(input_sequence)\n",
    "\n",
    "input_encoded_c = input_encoder_c(input_sequence)\n",
    "question_encoded = question_encoder(question)"
   ]
  },
  {
   "cell_type": "code",
   "execution_count": 25,
   "id": "2271eebb",
   "metadata": {},
   "outputs": [],
   "source": [
    "match = dot([input_encoded_m, question_encoded], axes = (2, 2))\n",
    "match = Activation('softmax')(match)"
   ]
  },
  {
   "cell_type": "code",
   "execution_count": 26,
   "id": "bdf22598",
   "metadata": {},
   "outputs": [],
   "source": [
    "response = add([match, input_encoded_c])\n",
    "response = Permute((2, 1))(response)"
   ]
  },
  {
   "cell_type": "code",
   "execution_count": 27,
   "id": "1c407692",
   "metadata": {},
   "outputs": [],
   "source": [
    "answer = concatenate([response, question_encoded])"
   ]
  },
  {
   "cell_type": "code",
   "execution_count": 28,
   "id": "14852652",
   "metadata": {},
   "outputs": [],
   "source": [
    "answer = LSTM(32)(answer)"
   ]
  },
  {
   "cell_type": "code",
   "execution_count": 29,
   "id": "48231e27",
   "metadata": {},
   "outputs": [],
   "source": [
    "answer = Dropout(0.5)(answer)\n",
    "answer = Dense(vocab_len)(answer)"
   ]
  },
  {
   "cell_type": "code",
   "execution_count": 30,
   "id": "893ba0ad",
   "metadata": {},
   "outputs": [],
   "source": [
    "answer = Activation('softmax')(answer)"
   ]
  },
  {
   "cell_type": "code",
   "execution_count": 31,
   "id": "e68ef2f2",
   "metadata": {},
   "outputs": [],
   "source": [
    "model = Model([input_sequence, question], answer)\n",
    "model.compile(optimizer = 'rmsprop', loss = 'categorical_crossentropy', metrics = ['accuracy'])"
   ]
  },
  {
   "cell_type": "code",
   "execution_count": 32,
   "id": "2bcf968a",
   "metadata": {},
   "outputs": [
    {
     "name": "stdout",
     "output_type": "stream",
     "text": [
      "Model: \"model\"\n",
      "__________________________________________________________________________________________________\n",
      " Layer (type)                   Output Shape         Param #     Connected to                     \n",
      "==================================================================================================\n",
      " input_1 (InputLayer)           [(None, 156)]        0           []                               \n",
      "                                                                                                  \n",
      " input_2 (InputLayer)           [(None, 6)]          0           []                               \n",
      "                                                                                                  \n",
      " sequential (Sequential)        (None, None, 64)     2432        ['input_1[0][0]']                \n",
      "                                                                                                  \n",
      " sequential_2 (Sequential)      (None, 6, 64)        2432        ['input_2[0][0]']                \n",
      "                                                                                                  \n",
      " dot (Dot)                      (None, 156, 6)       0           ['sequential[0][0]',             \n",
      "                                                                  'sequential_2[0][0]']           \n",
      "                                                                                                  \n",
      " activation (Activation)        (None, 156, 6)       0           ['dot[0][0]']                    \n",
      "                                                                                                  \n",
      " sequential_1 (Sequential)      (None, None, 6)      228         ['input_1[0][0]']                \n",
      "                                                                                                  \n",
      " add (Add)                      (None, 156, 6)       0           ['activation[0][0]',             \n",
      "                                                                  'sequential_1[0][0]']           \n",
      "                                                                                                  \n",
      " permute (Permute)              (None, 6, 156)       0           ['add[0][0]']                    \n",
      "                                                                                                  \n",
      " concatenate (Concatenate)      (None, 6, 220)       0           ['permute[0][0]',                \n",
      "                                                                  'sequential_2[0][0]']           \n",
      "                                                                                                  \n",
      " lstm (LSTM)                    (None, 32)           32384       ['concatenate[0][0]']            \n",
      "                                                                                                  \n",
      " dropout_3 (Dropout)            (None, 32)           0           ['lstm[0][0]']                   \n",
      "                                                                                                  \n",
      " dense (Dense)                  (None, 38)           1254        ['dropout_3[0][0]']              \n",
      "                                                                                                  \n",
      " activation_1 (Activation)      (None, 38)           0           ['dense[0][0]']                  \n",
      "                                                                                                  \n",
      "==================================================================================================\n",
      "Total params: 38,730\n",
      "Trainable params: 38,730\n",
      "Non-trainable params: 0\n",
      "__________________________________________________________________________________________________\n"
     ]
    }
   ],
   "source": [
    "model.summary()"
   ]
  },
  {
   "cell_type": "code",
   "execution_count": 33,
   "id": "2aa27f12",
   "metadata": {},
   "outputs": [
    {
     "name": "stdout",
     "output_type": "stream",
     "text": [
      "Epoch 1/22\n",
      "334/334 [==============================] - 3s 6ms/step - loss: 0.9135 - accuracy: 0.4966 - val_loss: 0.6965 - val_accuracy: 0.4970\n",
      "Epoch 2/22\n",
      "334/334 [==============================] - 2s 5ms/step - loss: 0.7062 - accuracy: 0.4995 - val_loss: 0.6935 - val_accuracy: 0.5030\n",
      "Epoch 3/22\n",
      "334/334 [==============================] - 2s 5ms/step - loss: 0.6983 - accuracy: 0.4969 - val_loss: 0.6937 - val_accuracy: 0.4970\n",
      "Epoch 4/22\n",
      "334/334 [==============================] - 2s 5ms/step - loss: 0.6964 - accuracy: 0.4991 - val_loss: 0.6934 - val_accuracy: 0.5030\n",
      "Epoch 5/22\n",
      "334/334 [==============================] - 2s 5ms/step - loss: 0.6961 - accuracy: 0.5008 - val_loss: 0.6946 - val_accuracy: 0.5030\n",
      "Epoch 6/22\n",
      "334/334 [==============================] - 2s 5ms/step - loss: 0.6950 - accuracy: 0.5017 - val_loss: 0.6946 - val_accuracy: 0.5030\n",
      "Epoch 7/22\n",
      "334/334 [==============================] - 2s 5ms/step - loss: 0.6954 - accuracy: 0.4977 - val_loss: 0.6975 - val_accuracy: 0.4970\n",
      "Epoch 8/22\n",
      "334/334 [==============================] - 2s 5ms/step - loss: 0.6953 - accuracy: 0.5001 - val_loss: 0.6932 - val_accuracy: 0.4970\n",
      "Epoch 9/22\n",
      "334/334 [==============================] - 2s 5ms/step - loss: 0.6955 - accuracy: 0.4919 - val_loss: 0.6944 - val_accuracy: 0.5030\n",
      "Epoch 10/22\n",
      "334/334 [==============================] - 2s 5ms/step - loss: 0.6951 - accuracy: 0.4992 - val_loss: 0.6936 - val_accuracy: 0.5030\n",
      "Epoch 11/22\n",
      "334/334 [==============================] - 2s 5ms/step - loss: 0.6954 - accuracy: 0.4974 - val_loss: 0.6933 - val_accuracy: 0.4970\n",
      "Epoch 12/22\n",
      "334/334 [==============================] - 2s 5ms/step - loss: 0.6950 - accuracy: 0.5022 - val_loss: 0.6956 - val_accuracy: 0.5030\n",
      "Epoch 13/22\n",
      "334/334 [==============================] - 2s 5ms/step - loss: 0.6952 - accuracy: 0.5003 - val_loss: 0.6932 - val_accuracy: 0.5030\n",
      "Epoch 14/22\n",
      "334/334 [==============================] - 2s 5ms/step - loss: 0.6944 - accuracy: 0.5121 - val_loss: 0.6935 - val_accuracy: 0.4970\n",
      "Epoch 15/22\n",
      "334/334 [==============================] - 2s 5ms/step - loss: 0.6951 - accuracy: 0.4972 - val_loss: 0.6933 - val_accuracy: 0.4970\n",
      "Epoch 16/22\n",
      "334/334 [==============================] - 2s 5ms/step - loss: 0.6937 - accuracy: 0.5062 - val_loss: 0.6935 - val_accuracy: 0.4970\n",
      "Epoch 17/22\n",
      "334/334 [==============================] - 2s 5ms/step - loss: 0.6956 - accuracy: 0.4940 - val_loss: 0.6932 - val_accuracy: 0.5030\n",
      "Epoch 18/22\n",
      "334/334 [==============================] - 2s 5ms/step - loss: 0.6954 - accuracy: 0.4931 - val_loss: 0.6933 - val_accuracy: 0.5030\n",
      "Epoch 19/22\n",
      "334/334 [==============================] - 2s 5ms/step - loss: 0.6947 - accuracy: 0.5022 - val_loss: 0.6942 - val_accuracy: 0.4970\n",
      "Epoch 20/22\n",
      "334/334 [==============================] - 2s 5ms/step - loss: 0.6954 - accuracy: 0.4997 - val_loss: 0.6932 - val_accuracy: 0.5030\n",
      "Epoch 21/22\n",
      "334/334 [==============================] - 2s 5ms/step - loss: 0.6947 - accuracy: 0.4993 - val_loss: 0.6933 - val_accuracy: 0.4970\n",
      "Epoch 22/22\n",
      "334/334 [==============================] - 2s 5ms/step - loss: 0.6947 - accuracy: 0.5059 - val_loss: 0.6940 - val_accuracy: 0.4970\n"
     ]
    }
   ],
   "source": [
    "history = model.fit([inputs_train, queries_train], answers_train, batch_size = 30, epochs = 22, validation_data = ([inputs_test, queries_test], answers_test))"
   ]
  },
  {
   "cell_type": "code",
   "execution_count": 34,
   "id": "5698931b",
   "metadata": {},
   "outputs": [
    {
     "name": "stdout",
     "output_type": "stream",
     "text": [
      "dict_keys(['loss', 'accuracy', 'val_loss', 'val_accuracy'])\n"
     ]
    },
    {
     "data": {
      "text/plain": [
       "Text(0.5, 0, 'epochs')"
      ]
     },
     "execution_count": 34,
     "metadata": {},
     "output_type": "execute_result"
    },
    {
     "data": {
      "image/png": "[encoded data removed]",
      "text/plain": [
       "<Figure size 640x480 with 1 Axes>"
      ]
     },
     "metadata": {},
     "output_type": "display_data"
    }
   ],
   "source": [
    "import matplotlib.pyplot as plt\n",
    "\n",
    "print(history.history.keys())\n",
    "plt.plot(history.history['accuracy'])\n",
    "\n",
    "plt.plot(history.history['val_accuracy'])\n",
    "plt.title(\"Model Accuracy\")\n",
    "plt.ylabel(\"Accuracy\")\n",
    "plt.xlabel(\"epochs\")"
   ]
  },
  {
   "cell_type": "code",
   "execution_count": 35,
   "id": "8f8386e1",
   "metadata": {},
   "outputs": [
    {
     "name": "stderr",
     "output_type": "stream",
     "text": [
      "WARNING:absl:Found untraced functions such as _update_step_xla, lstm_cell_layer_call_fn, lstm_cell_layer_call_and_return_conditional_losses while saving (showing 3 of 3). These functions will not be directly callable after loading.\n"
     ]
    },
    {
     "name": "stdout",
     "output_type": "stream",
     "text": [
      "INFO:tensorflow:Assets written to: chatbot_model\\assets\n"
     ]
    },
    {
     "name": "stderr",
     "output_type": "stream",
     "text": [
      "INFO:tensorflow:Assets written to: chatbot_model\\assets\n"
     ]
    }
   ],
   "source": [
    "model.save(\"chatbot_model\")"
   ]
  },
  {
   "cell_type": "code",
   "execution_count": 36,
   "id": "0d7b9cc8",
   "metadata": {},
   "outputs": [
    {
     "data": {
      "text/plain": [
       "<tensorflow.python.checkpoint.checkpoint.CheckpointLoadStatus at 0x1f00a3c4760>"
      ]
     },
     "execution_count": 36,
     "metadata": {},
     "output_type": "execute_result"
    }
   ],
   "source": [
    "model.load_weights(\"chatbot_model\")"
   ]
  },
  {
   "cell_type": "code",
   "execution_count": 37,
   "id": "2b000dae",
   "metadata": {},
   "outputs": [
    {
     "name": "stdout",
     "output_type": "stream",
     "text": [
      "32/32 [==============================] - 0s 2ms/step\n"
     ]
    }
   ],
   "source": [
    "pred_results = model.predict(([inputs_test, queries_test]))"
   ]
  },
  {
   "cell_type": "code",
   "execution_count": 38,
   "id": "e2808cdd",
   "metadata": {},
   "outputs": [
    {
     "data": {
      "text/plain": [
       "['Mary',\n",
       " 'got',\n",
       " 'the',\n",
       " 'milk',\n",
       " 'there',\n",
       " '.',\n",
       " 'John',\n",
       " 'moved',\n",
       " 'to',\n",
       " 'the',\n",
       " 'bedroom',\n",
       " '.']"
      ]
     },
     "execution_count": 38,
     "metadata": {},
     "output_type": "execute_result"
    }
   ],
   "source": [
    "test_data[0][0]"
   ]
  },
  {
   "cell_type": "code",
   "execution_count": 39,
   "id": "7c56e376",
   "metadata": {},
   "outputs": [],
   "source": [
    "story = ' '.join(word for word in test_data[100][0])"
   ]
  },
  {
   "cell_type": "code",
   "execution_count": 40,
   "id": "b8be7876",
   "metadata": {},
   "outputs": [
    {
     "data": {
      "text/plain": [
       "'John took the apple there . John went to the bathroom .'"
      ]
     },
     "execution_count": 40,
     "metadata": {},
     "output_type": "execute_result"
    }
   ],
   "source": [
    "story"
   ]
  },
  {
   "cell_type": "code",
   "execution_count": 41,
   "id": "0b8a2d1d",
   "metadata": {},
   "outputs": [],
   "source": [
    "query = ' '.join(word for word in test_data[100][1])"
   ]
  },
  {
   "cell_type": "code",
   "execution_count": 42,
   "id": "70fccbab",
   "metadata": {},
   "outputs": [
    {
     "data": {
      "text/plain": [
       "'Is John in the hallway ?'"
      ]
     },
     "execution_count": 42,
     "metadata": {},
     "output_type": "execute_result"
    }
   ],
   "source": [
    "query"
   ]
  },
  {
   "cell_type": "code",
   "execution_count": 43,
   "id": "3e70c82e",
   "metadata": {},
   "outputs": [
    {
     "data": {
      "text/plain": [
       "'no'"
      ]
     },
     "execution_count": 43,
     "metadata": {},
     "output_type": "execute_result"
    }
   ],
   "source": [
    "test_data[100][2]"
   ]
  },
  {
   "cell_type": "code",
   "execution_count": 44,
   "id": "2c6ffa98",
   "metadata": {},
   "outputs": [
    {
     "name": "stdout",
     "output_type": "stream",
     "text": [
      "Predicted answer is yes\n",
      "Probability of certainty 0.5181043\n"
     ]
    }
   ],
   "source": [
    "val_max = np.argmax(pred_results[37])\n",
    "\n",
    "for key, val in tokenizer.word_index.items():\n",
    "    if val == val_max:\n",
    "        k = key\n",
    "\n",
    "print(\"Predicted answer is\", k)\n",
    "print(\"Probability of certainty\", pred_results[37][val_max])"
   ]
  }
 ],
 "metadata": {
  "kernelspec": {
   "display_name": "Python 3",
   "language": "python",
   "name": "python3"
  },
  "language_info": {
   "codemirror_mode": {
    "name": "ipython",
    "version": 3
   },
   "file_extension": ".py",
   "mimetype": "text/x-python",
   "name": "python",
   "nbconvert_exporter": "python",
   "pygments_lexer": "ipython3",
   "version": "3.9.13"
  },
  "vscode": {
   "interpreter": {
    "hash": "cc1663dc325559eabbb652920b2f30142a7e8f08b01302ececb9c17facdc84c5"
   }
  }
 },
 "nbformat": 4,
 "nbformat_minor": 5
}
